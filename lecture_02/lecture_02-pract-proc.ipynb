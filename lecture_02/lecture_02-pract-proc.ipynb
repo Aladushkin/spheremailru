{
 "cells": [
  {
   "cell_type": "markdown",
   "metadata": {
    "slideshow": {
     "slide_type": "slide"
    }
   },
   "source": [
    "<center><img src=\"images/header.png\"></center>\n",
    "\n",
    "<h1><center>Алгоритмы интеллектуальной обработки больших объемов данных</center></h1>\n",
    "<hr>\n",
    "<h2><center>Алгоритмы кластеризации (практика)</center></h2>"
   ]
  },
  {
   "cell_type": "code",
   "execution_count": 4,
   "metadata": {
    "collapsed": true,
    "slideshow": {
     "slide_type": "notes"
    }
   },
   "outputs": [],
   "source": [
    "import pandas as pd\n",
    "import numpy as np\n",
    "import matplotlib.pyplot as plt\n",
    "\n",
    "%matplotlib inline\n",
    "\n",
    "plt.style.use('ggplot')\n",
    "plt.rcParams['figure.figsize'] = (12,5)\n",
    "\n",
    "# Для кириллицы на графиках\n",
    "font = {'family': 'Verdana',\n",
    "        'weight': 'normal'}\n",
    "plt.rc('font', **font)\n",
    "\n",
    "try:\n",
    "    from ipywidgets import interact, IntSlider, fixed, FloatSlider\n",
    "except ImportError:\n",
    "    print u'Так надо'"
   ]
  },
  {
   "cell_type": "markdown",
   "metadata": {
    "slideshow": {
     "slide_type": "slide"
    }
   },
   "source": [
    "# Пищевая ценность продуктов"
   ]
  },
  {
   "cell_type": "markdown",
   "metadata": {},
   "source": [
    "Загрузите файл `food.txt`. В нем содержится информация о пищевой ценности разных продуктов"
   ]
  },
  {
   "cell_type": "raw",
   "metadata": {},
   "source": [
    "# \"Name\" is the name of the item.\n",
    "#\n",
    "# \"Energy\" is the number of calories.\n",
    "#\n",
    "# \"Protein\" is the amount of protein in grams.\n",
    "#\n",
    "# \"Fat\" is the amount of fat in grams.\n",
    "#\n",
    "# \"Calcium\" is the amount of calcium in milligrams.\n",
    "#\n",
    "# \"Iron\" is the amount of iron in milligrams."
   ]
  },
  {
   "cell_type": "markdown",
   "metadata": {},
   "source": [
    "* Подготовте данные к кластеризации и сделайте иерарническую кластеризацию этого набора данных.\n",
    "* Изобразите дендрограмму\n",
    "* Выверите число кластеров и интерпретируйте их\n",
    "\n",
    "Почему перед применением кластеризации признки необходимо нормализовать?"
   ]
  },
  {
   "cell_type": "code",
   "execution_count": 5,
   "metadata": {
    "collapsed": true
   },
   "outputs": [],
   "source": [
    "df = pd.read_csv('food.txt', sep=' ')"
   ]
  },
  {
   "cell_type": "code",
   "execution_count": 6,
   "metadata": {
    "collapsed": false
   },
   "outputs": [
    {
     "data": {
      "text/html": [
       "<div>\n",
       "<table border=\"1\" class=\"dataframe\">\n",
       "  <thead>\n",
       "    <tr style=\"text-align: right;\">\n",
       "      <th></th>\n",
       "      <th>Name</th>\n",
       "      <th>Energy</th>\n",
       "      <th>Protein</th>\n",
       "      <th>Fat</th>\n",
       "      <th>Calcium</th>\n",
       "      <th>Iron</th>\n",
       "    </tr>\n",
       "  </thead>\n",
       "  <tbody>\n",
       "    <tr>\n",
       "      <th>0</th>\n",
       "      <td>Braised beef</td>\n",
       "      <td>340</td>\n",
       "      <td>20</td>\n",
       "      <td>28</td>\n",
       "      <td>9</td>\n",
       "      <td>2.6</td>\n",
       "    </tr>\n",
       "    <tr>\n",
       "      <th>1</th>\n",
       "      <td>Hamburger</td>\n",
       "      <td>245</td>\n",
       "      <td>21</td>\n",
       "      <td>17</td>\n",
       "      <td>9</td>\n",
       "      <td>2.7</td>\n",
       "    </tr>\n",
       "    <tr>\n",
       "      <th>2</th>\n",
       "      <td>Roast beef</td>\n",
       "      <td>420</td>\n",
       "      <td>15</td>\n",
       "      <td>39</td>\n",
       "      <td>7</td>\n",
       "      <td>2.0</td>\n",
       "    </tr>\n",
       "    <tr>\n",
       "      <th>3</th>\n",
       "      <td>Beefsteak</td>\n",
       "      <td>375</td>\n",
       "      <td>19</td>\n",
       "      <td>32</td>\n",
       "      <td>9</td>\n",
       "      <td>2.6</td>\n",
       "    </tr>\n",
       "    <tr>\n",
       "      <th>4</th>\n",
       "      <td>Canned beef</td>\n",
       "      <td>180</td>\n",
       "      <td>22</td>\n",
       "      <td>10</td>\n",
       "      <td>17</td>\n",
       "      <td>3.7</td>\n",
       "    </tr>\n",
       "  </tbody>\n",
       "</table>\n",
       "</div>"
      ],
      "text/plain": [
       "           Name  Energy  Protein  Fat  Calcium  Iron\n",
       "0  Braised beef     340       20   28        9   2.6\n",
       "1     Hamburger     245       21   17        9   2.7\n",
       "2    Roast beef     420       15   39        7   2.0\n",
       "3     Beefsteak     375       19   32        9   2.6\n",
       "4   Canned beef     180       22   10       17   3.7"
      ]
     },
     "execution_count": 6,
     "metadata": {},
     "output_type": "execute_result"
    }
   ],
   "source": [
    "df.head()"
   ]
  },
  {
   "cell_type": "code",
   "execution_count": 7,
   "metadata": {
    "collapsed": true
   },
   "outputs": [],
   "source": [
    "X = df.iloc[:, 1:].values"
   ]
  },
  {
   "cell_type": "code",
   "execution_count": 11,
   "metadata": {
    "collapsed": false
   },
   "outputs": [],
   "source": [
    "X = (X - X.mean(axis=0))/X.std(axis=0)"
   ]
  },
  {
   "cell_type": "code",
   "execution_count": 12,
   "metadata": {
    "collapsed": true
   },
   "outputs": [],
   "source": [
    "from scipy.cluster.hierarchy import dendrogram, fcluster, linkage"
   ]
  },
  {
   "cell_type": "code",
   "execution_count": 25,
   "metadata": {
    "collapsed": false
   },
   "outputs": [
    {
     "data": {
      "image/png": "[encoded data removed]",
      "text/plain": [
       "<matplotlib.figure.Figure at 0x10cf84fd0>"
      ]
     },
     "metadata": {},
     "output_type": "display_data"
    }
   ],
   "source": [
    "Z = linkage(X, method='complete')\n",
    "dend = dendrogram(Z, labels=df.loc[:, 'Name'].values, orientation='left')"
   ]
  },
  {
   "cell_type": "code",
   "execution_count": 36,
   "metadata": {
    "collapsed": true
   },
   "outputs": [],
   "source": [
    "df.loc[:, 'cluster'] = fcluster(Z, 5, criterion='maxclust')"
   ]
  },
  {
   "cell_type": "code",
   "execution_count": 39,
   "metadata": {
    "collapsed": false
   },
   "outputs": [
    {
     "name": "stdout",
     "output_type": "stream",
     "text": [
      "= cluster 1 =\n",
      "Energy     352.857143\n",
      "Protein     18.571429\n",
      "Fat         30.142857\n",
      "Calcium      8.714286\n",
      "Iron         2.414286\n",
      "cluster      1.000000\n",
      "dtype: float64\n",
      "==========\n",
      "= cluster 2 =\n",
      "Energy     57.5\n",
      "Protein     9.0\n",
      "Fat         1.0\n",
      "Calcium    78.0\n",
      "Iron        5.7\n",
      "cluster     2.0\n",
      "dtype: float64\n",
      "==========\n",
      "= cluster 3 =\n",
      "Energy     167.1875\n",
      "Protein     19.8125\n",
      "Fat          8.5625\n",
      "Calcium     36.8125\n",
      "Iron         1.7250\n",
      "cluster      3.0000\n",
      "dtype: float64\n",
      "==========\n",
      "= cluster 4 =\n",
      "Energy     160.0\n",
      "Protein     26.0\n",
      "Fat          5.0\n",
      "Calcium     14.0\n",
      "Iron         5.9\n",
      "cluster      4.0\n",
      "dtype: float64\n",
      "==========\n",
      "= cluster 5 =\n",
      "Energy     180.0\n",
      "Protein     22.0\n",
      "Fat          9.0\n",
      "Calcium    367.0\n",
      "Iron         2.5\n",
      "cluster      5.0\n",
      "dtype: float64\n",
      "==========\n"
     ]
    }
   ],
   "source": [
    "for i, group in df.groupby('cluster'):\n",
    "    print '= cluster %i =' % i\n",
    "    print group.mean()\n",
    "    \n",
    "    print '=' * 10"
   ]
  },
  {
   "cell_type": "markdown",
   "metadata": {},
   "source": [
    "# Европейcкие языки"
   ]
  },
  {
   "cell_type": "markdown",
   "metadata": {},
   "source": [
    "Загризите данные из файла `'languages.txt'` о произношении различных слов на европейских языках."
   ]
  },
  {
   "cell_type": "markdown",
   "metadata": {},
   "source": [
    "Используйте расстояние Левенштейна, чтобы рассчитать близость языков по данным словам\n",
    "\n",
    "Для этого вам надо написать собственную функцию, которая принимает на вход вектора двух объектов и считает расстояние между ними.\n",
    "\n",
    "Как в дальнейшем использовать вашу функцию можно посмотреть [здесь](https://docs.scipy.org/doc/scipy-0.14.0/reference/generated/scipy.spatial.distance.pdist.html) в п.23 (если вы будете использовать `scipy`)  или передать на вход в `AgglomerativeClustering` в `sklearn`."
   ]
  },
  {
   "cell_type": "code",
   "execution_count": null,
   "metadata": {
    "collapsed": true
   },
   "outputs": [],
   "source": [
    "def classic_levenshtein(string_1, string_2):\n",
    "    '''\n",
    "    Расстояние Левенштейна\n",
    "    '''\n",
    "    len_1 = len(string_1)\n",
    "    len_2 = len(string_2)\n",
    "    cost = 0\n",
    "\n",
    "    if len_1 and len_2 and string_1[0] != string_2[0]:\n",
    "        cost = 1\n",
    "\n",
    "    if len_1 == 0:\n",
    "        return len_2\n",
    "    elif len_2 == 0:\n",
    "        return len_1\n",
    "    else:\n",
    "        return min(\n",
    "            classic_levenshtein(string_1[1:], string_2) + 1,\n",
    "            classic_levenshtein(string_1, string_2[1:]) + 1,\n",
    "            classic_levenshtein(string_1[1:], string_2[1:]) + cost,\n",
    ")"
   ]
  },
  {
   "cell_type": "code",
   "execution_count": null,
   "metadata": {
    "collapsed": false
   },
   "outputs": [],
   "source": [
    "classic_levenshtein('мгу', 'вмк')"
   ]
  },
  {
   "cell_type": "code",
   "execution_count": null,
   "metadata": {
    "collapsed": true
   },
   "outputs": [],
   "source": [
    "## Your Code Here"
   ]
  }
 ],
 "metadata": {
  "anaconda-cloud": {},
  "kernelspec": {
   "display_name": "Python [conda root]",
   "language": "python",
   "name": "conda-root-py"
  },
  "language_info": {
   "codemirror_mode": {
    "name": "ipython",
    "version": 2
   },
   "file_extension": ".py",
   "mimetype": "text/x-python",
   "name": "python",
   "nbconvert_exporter": "python",
   "pygments_lexer": "ipython2",
   "version": "2.7.12"
  },
  "livereveal": {
   "theme": "serif",
   "transition": "concave",
   "width": "1024px"
  },
  "nav_menu": {},
  "toc": {
   "navigate_menu": true,
   "number_sections": false,
   "sideBar": false,
   "threshold": 6,
   "toc_cell": false,
   "toc_section_display": "block",
   "toc_window_display": false
  },
  "toc_position": {
   "height": "32px",
   "left": "9px",
   "right": "1379px",
   "top": "33px",
   "width": "212px"
  }
 },
 "nbformat": 4,
 "nbformat_minor": 2
}
