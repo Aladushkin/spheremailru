{
 "cells": [
  {
   "cell_type": "markdown",
   "metadata": {},
   "source": [
    "<center><img src=\"images/header.png\"></center>\n",
    "\n",
    "<h1><center>Алгоритмы интеллектуальной обработки больших объемов данных</center></h1>\n",
    "<hr>\n",
    "<h2><center>Деревья решений, случайные леса (практика)</center></h2>"
   ]
  },
  {
   "cell_type": "markdown",
   "metadata": {},
   "source": [
    "**Срок сдачи:** 3 апреля 2017, 06:00 <br> \n",
    "**Штраф за опоздание:** -2 балла после 06:00 3 апреля, -4 балла после 06:00 10 апреля, -6 баллов после 06:00 17 апреля\n",
    "\n",
    "При отправлении ДЗ указывайте фамилию в названии файла<br>\n",
    "\n",
    "Не забудте создать задание в Slack через /todo.\n",
    "\n",
    "Используйте данный Ipython Notebook при оформлении домашнего задания."
   ]
  },
  {
   "cell_type": "code",
   "execution_count": 1,
   "metadata": {
    "collapsed": false
   },
   "outputs": [],
   "source": [
    "import pandas as pd\n",
    "import numpy as np\n",
    "import matplotlib.pyplot as plt\n",
    "\n",
    "%matplotlib inline\n",
    "\n",
    "plt.style.use('ggplot')\n",
    "plt.rcParams['figure.figsize'] = (12,8)\n",
    "\n",
    "# Для кириллицы на графиках\n",
    "font = {'family': 'Verdana',\n",
    "        'weight': 'normal'}\n",
    "plt.rc('font', **font)"
   ]
  },
  {
   "cell_type": "markdown",
   "metadata": {},
   "source": [
    "# Практика"
   ]
  },
  {
   "cell_type": "markdown",
   "metadata": {},
   "source": [
    "### Качество вина (10 баллов)"
   ]
  },
  {
   "cell_type": "markdown",
   "metadata": {},
   "source": [
    "Давайте все-таки разберемся с [вином](https://archive.ics.uci.edu/ml/machine-learning-databases/wine-quality/winequality-red.csv)!\n",
    "\n",
    "\n",
    "#### Задание (1 балл)\n",
    "* Загрузите данные, выполните преобразование целевой переменной: \n",
    "    * quality > 5 -> 1\n",
    "    * quality <= 5 -> 0\n",
    "* Разделите выборку на обучающую и контрольную в пропорции 80/20"
   ]
  },
  {
   "cell_type": "code",
   "execution_count": 2,
   "metadata": {
    "collapsed": true
   },
   "outputs": [],
   "source": [
    "from tqdm import tqdm_notebook"
   ]
  },
  {
   "cell_type": "code",
   "execution_count": 4,
   "metadata": {
    "collapsed": true
   },
   "outputs": [],
   "source": [
    "df_wine = pd.read_csv('https://archive.ics.uci.edu/ml/machine-learning-databases/wine-quality/winequality-red.csv', sep=';')"
   ]
  },
  {
   "cell_type": "code",
   "execution_count": 5,
   "metadata": {
    "collapsed": false
   },
   "outputs": [
    {
     "data": {
      "text/html": [
       "<div>\n",
       "<table border=\"1\" class=\"dataframe\">\n",
       "  <thead>\n",
       "    <tr style=\"text-align: right;\">\n",
       "      <th></th>\n",
       "      <th>fixed acidity</th>\n",
       "      <th>volatile acidity</th>\n",
       "      <th>citric acid</th>\n",
       "      <th>residual sugar</th>\n",
       "      <th>chlorides</th>\n",
       "      <th>free sulfur dioxide</th>\n",
       "      <th>total sulfur dioxide</th>\n",
       "      <th>density</th>\n",
       "      <th>pH</th>\n",
       "      <th>sulphates</th>\n",
       "      <th>alcohol</th>\n",
       "      <th>quality</th>\n",
       "    </tr>\n",
       "  </thead>\n",
       "  <tbody>\n",
       "    <tr>\n",
       "      <th>0</th>\n",
       "      <td>7.4</td>\n",
       "      <td>0.70</td>\n",
       "      <td>0.00</td>\n",
       "      <td>1.9</td>\n",
       "      <td>0.076</td>\n",
       "      <td>11.0</td>\n",
       "      <td>34.0</td>\n",
       "      <td>0.9978</td>\n",
       "      <td>3.51</td>\n",
       "      <td>0.56</td>\n",
       "      <td>9.4</td>\n",
       "      <td>5</td>\n",
       "    </tr>\n",
       "    <tr>\n",
       "      <th>1</th>\n",
       "      <td>7.8</td>\n",
       "      <td>0.88</td>\n",
       "      <td>0.00</td>\n",
       "      <td>2.6</td>\n",
       "      <td>0.098</td>\n",
       "      <td>25.0</td>\n",
       "      <td>67.0</td>\n",
       "      <td>0.9968</td>\n",
       "      <td>3.20</td>\n",
       "      <td>0.68</td>\n",
       "      <td>9.8</td>\n",
       "      <td>5</td>\n",
       "    </tr>\n",
       "    <tr>\n",
       "      <th>2</th>\n",
       "      <td>7.8</td>\n",
       "      <td>0.76</td>\n",
       "      <td>0.04</td>\n",
       "      <td>2.3</td>\n",
       "      <td>0.092</td>\n",
       "      <td>15.0</td>\n",
       "      <td>54.0</td>\n",
       "      <td>0.9970</td>\n",
       "      <td>3.26</td>\n",
       "      <td>0.65</td>\n",
       "      <td>9.8</td>\n",
       "      <td>5</td>\n",
       "    </tr>\n",
       "    <tr>\n",
       "      <th>3</th>\n",
       "      <td>11.2</td>\n",
       "      <td>0.28</td>\n",
       "      <td>0.56</td>\n",
       "      <td>1.9</td>\n",
       "      <td>0.075</td>\n",
       "      <td>17.0</td>\n",
       "      <td>60.0</td>\n",
       "      <td>0.9980</td>\n",
       "      <td>3.16</td>\n",
       "      <td>0.58</td>\n",
       "      <td>9.8</td>\n",
       "      <td>6</td>\n",
       "    </tr>\n",
       "    <tr>\n",
       "      <th>4</th>\n",
       "      <td>7.4</td>\n",
       "      <td>0.70</td>\n",
       "      <td>0.00</td>\n",
       "      <td>1.9</td>\n",
       "      <td>0.076</td>\n",
       "      <td>11.0</td>\n",
       "      <td>34.0</td>\n",
       "      <td>0.9978</td>\n",
       "      <td>3.51</td>\n",
       "      <td>0.56</td>\n",
       "      <td>9.4</td>\n",
       "      <td>5</td>\n",
       "    </tr>\n",
       "  </tbody>\n",
       "</table>\n",
       "</div>"
      ],
      "text/plain": [
       "   fixed acidity  volatile acidity  citric acid  residual sugar  chlorides  \\\n",
       "0            7.4              0.70         0.00             1.9      0.076   \n",
       "1            7.8              0.88         0.00             2.6      0.098   \n",
       "2            7.8              0.76         0.04             2.3      0.092   \n",
       "3           11.2              0.28         0.56             1.9      0.075   \n",
       "4            7.4              0.70         0.00             1.9      0.076   \n",
       "\n",
       "   free sulfur dioxide  total sulfur dioxide  density    pH  sulphates  \\\n",
       "0                 11.0                  34.0   0.9978  3.51       0.56   \n",
       "1                 25.0                  67.0   0.9968  3.20       0.68   \n",
       "2                 15.0                  54.0   0.9970  3.26       0.65   \n",
       "3                 17.0                  60.0   0.9980  3.16       0.58   \n",
       "4                 11.0                  34.0   0.9978  3.51       0.56   \n",
       "\n",
       "   alcohol  quality  \n",
       "0      9.4        5  \n",
       "1      9.8        5  \n",
       "2      9.8        5  \n",
       "3      9.8        6  \n",
       "4      9.4        5  "
      ]
     },
     "execution_count": 5,
     "metadata": {},
     "output_type": "execute_result"
    }
   ],
   "source": [
    "df_wine.head()"
   ]
  },
  {
   "cell_type": "code",
   "execution_count": 6,
   "metadata": {
    "collapsed": true
   },
   "outputs": [],
   "source": [
    "df_wine.loc[:, 'quality'] = (df_wine.loc[:, 'quality'] > 5).astype(int)"
   ]
  },
  {
   "cell_type": "code",
   "execution_count": 8,
   "metadata": {
    "collapsed": true
   },
   "outputs": [],
   "source": [
    "X, y = df_wine.iloc[:, :-1].values, df_wine.iloc[:, -1].values"
   ]
  },
  {
   "cell_type": "code",
   "execution_count": 9,
   "metadata": {
    "collapsed": false
   },
   "outputs": [
    {
     "data": {
      "text/plain": [
       "array([[  7.40000000e+00,   7.00000000e-01,   0.00000000e+00,\n",
       "          1.90000000e+00,   7.60000000e-02,   1.10000000e+01,\n",
       "          3.40000000e+01,   9.97800000e-01,   3.51000000e+00,\n",
       "          5.60000000e-01,   9.40000000e+00],\n",
       "       [  7.80000000e+00,   8.80000000e-01,   0.00000000e+00,\n",
       "          2.60000000e+00,   9.80000000e-02,   2.50000000e+01,\n",
       "          6.70000000e+01,   9.96800000e-01,   3.20000000e+00,\n",
       "          6.80000000e-01,   9.80000000e+00],\n",
       "       [  7.80000000e+00,   7.60000000e-01,   4.00000000e-02,\n",
       "          2.30000000e+00,   9.20000000e-02,   1.50000000e+01,\n",
       "          5.40000000e+01,   9.97000000e-01,   3.26000000e+00,\n",
       "          6.50000000e-01,   9.80000000e+00],\n",
       "       [  1.12000000e+01,   2.80000000e-01,   5.60000000e-01,\n",
       "          1.90000000e+00,   7.50000000e-02,   1.70000000e+01,\n",
       "          6.00000000e+01,   9.98000000e-01,   3.16000000e+00,\n",
       "          5.80000000e-01,   9.80000000e+00],\n",
       "       [  7.40000000e+00,   7.00000000e-01,   0.00000000e+00,\n",
       "          1.90000000e+00,   7.60000000e-02,   1.10000000e+01,\n",
       "          3.40000000e+01,   9.97800000e-01,   3.51000000e+00,\n",
       "          5.60000000e-01,   9.40000000e+00],\n",
       "       [  7.40000000e+00,   6.60000000e-01,   0.00000000e+00,\n",
       "          1.80000000e+00,   7.50000000e-02,   1.30000000e+01,\n",
       "          4.00000000e+01,   9.97800000e-01,   3.51000000e+00,\n",
       "          5.60000000e-01,   9.40000000e+00],\n",
       "       [  7.90000000e+00,   6.00000000e-01,   6.00000000e-02,\n",
       "          1.60000000e+00,   6.90000000e-02,   1.50000000e+01,\n",
       "          5.90000000e+01,   9.96400000e-01,   3.30000000e+00,\n",
       "          4.60000000e-01,   9.40000000e+00],\n",
       "       [  7.30000000e+00,   6.50000000e-01,   0.00000000e+00,\n",
       "          1.20000000e+00,   6.50000000e-02,   1.50000000e+01,\n",
       "          2.10000000e+01,   9.94600000e-01,   3.39000000e+00,\n",
       "          4.70000000e-01,   1.00000000e+01],\n",
       "       [  7.80000000e+00,   5.80000000e-01,   2.00000000e-02,\n",
       "          2.00000000e+00,   7.30000000e-02,   9.00000000e+00,\n",
       "          1.80000000e+01,   9.96800000e-01,   3.36000000e+00,\n",
       "          5.70000000e-01,   9.50000000e+00],\n",
       "       [  7.50000000e+00,   5.00000000e-01,   3.60000000e-01,\n",
       "          6.10000000e+00,   7.10000000e-02,   1.70000000e+01,\n",
       "          1.02000000e+02,   9.97800000e-01,   3.35000000e+00,\n",
       "          8.00000000e-01,   1.05000000e+01]])"
      ]
     },
     "execution_count": 9,
     "metadata": {},
     "output_type": "execute_result"
    }
   ],
   "source": [
    "X[:10]"
   ]
  },
  {
   "cell_type": "code",
   "execution_count": 10,
   "metadata": {
    "collapsed": true
   },
   "outputs": [],
   "source": [
    "from sklearn.model_selection import train_test_split"
   ]
  },
  {
   "cell_type": "code",
   "execution_count": 11,
   "metadata": {
    "collapsed": true
   },
   "outputs": [],
   "source": [
    "X_train, X_test, y_train, y_test = train_test_split(X, y, test_size=0.2, random_state=123)"
   ]
  },
  {
   "cell_type": "markdown",
   "metadata": {},
   "source": [
    "#### Задание (2 балла)\n",
    "\n",
    "Сфокусируемся на одном гиперпараметре деревьев решений - максимальной глубине.\n",
    "\n",
    "Подберите наилучшую глубину `d` дерева с помошью \n",
    "* Усредненной оценки качества roc-auc на кросс-валидации при различных `d`\n",
    "* Валидационных кривых"
   ]
  },
  {
   "cell_type": "code",
   "execution_count": 12,
   "metadata": {
    "collapsed": true
   },
   "outputs": [],
   "source": [
    "from sklearn.tree import DecisionTreeClassifier\n",
    "\n",
    "try:\n",
    "    from sklearn.model_selection import cross_val_score\n",
    "except ImportError:\n",
    "    from sklearn.cross_validation import cross_val_score\n",
    "\n",
    "try:\n",
    "    from sklearn.model_selection import validation_curve\n",
    "except ImportError:\n",
    "    from sklearn.learning_curve import validation_curve"
   ]
  },
  {
   "cell_type": "code",
   "execution_count": 18,
   "metadata": {
    "collapsed": false
   },
   "outputs": [],
   "source": [
    "scores = []\n",
    "\n",
    "for d in xrange(1, 20):\n",
    "    model = DecisionTreeClassifier(max_depth=d, random_state=123)\n",
    "    scores.append(cross_val_score(model, X_train, y_train, cv=5, scoring='roc_auc').mean())"
   ]
  },
  {
   "cell_type": "code",
   "execution_count": 19,
   "metadata": {
    "collapsed": false
   },
   "outputs": [
    {
     "data": {
      "text/plain": [
       "[<matplotlib.lines.Line2D at 0x11279ef10>]"
      ]
     },
     "execution_count": 19,
     "metadata": {},
     "output_type": "execute_result"
    },
    {
     "data": {
      "image/png": "[encoded data removed]",
      "text/plain": [
       "<matplotlib.figure.Figure at 0x1123e8910>"
      ]
     },
     "metadata": {},
     "output_type": "display_data"
    }
   ],
   "source": [
    "plt.plot(range(1,20), scores)"
   ]
  },
  {
   "cell_type": "code",
   "execution_count": 46,
   "metadata": {
    "collapsed": true
   },
   "outputs": [],
   "source": [
    "# При мере качества roc-auc виден явный пик на глубине 4\n",
    "# Если выбрать меру качества accuracy, то выбрать оптимальную глубину окажется не так просто.\n",
    "\n",
    "# Воспользуемся validation_curve\n",
    "# По сути - этот метод делает тоже самое что наш цикл с cross_val_score, но в результате возвращаются мера качества\n",
    "# как на тестовой части каждого из фолдов, так и на обучающей части"
   ]
  },
  {
   "cell_type": "code",
   "execution_count": 54,
   "metadata": {
    "collapsed": false
   },
   "outputs": [],
   "source": [
    "model = DecisionTreeClassifier(random_state=123)\n",
    "train_scores, test_scores = validation_curve(model, X_train, y_train, 'max_depth',\n",
    "                                             range(1, 20), n_jobs=-1, cv=5, scoring='roc_auc')"
   ]
  },
  {
   "cell_type": "code",
   "execution_count": 52,
   "metadata": {
    "collapsed": false
   },
   "outputs": [],
   "source": [
    "train_mean = train_scores.mean(axis=1)\n",
    "test_mean = test_scores.mean(axis=1)\n",
    "train_std = train_scores.std(axis=1)\n",
    "test_std = test_scores.std(axis=1)"
   ]
  },
  {
   "cell_type": "code",
   "execution_count": 53,
   "metadata": {
    "collapsed": false
   },
   "outputs": [
    {
     "data": {
      "text/plain": [
       "<matplotlib.collections.PolyCollection at 0x1154a3210>"
      ]
     },
     "execution_count": 53,
     "metadata": {},
     "output_type": "execute_result"
    },
    {
     "data": {
      "image/png": "[encoded data removed]",
      "text/plain": [
       "<matplotlib.figure.Figure at 0x113ac6e50>"
      ]
     },
     "metadata": {},
     "output_type": "display_data"
    }
   ],
   "source": [
    "d = range(1,20)\n",
    "plt.plot(d, train_mean, color='b')\n",
    "plt.plot(d, test_mean)\n",
    "\n",
    "plt.fill_between(d, train_mean-train_std, train_mean+train_std, color='b', alpha=0.3)\n",
    "plt.fill_between(d, test_mean-test_std, test_mean+test_std, color='r', alpha=0.3)"
   ]
  },
  {
   "cell_type": "code",
   "execution_count": 50,
   "metadata": {
    "collapsed": true
   },
   "outputs": [],
   "source": [
    "# При roc-auc видем тот же самый пик\n",
    "# Если выбрать меру качества accuracy, то на той глубине, где accuracy был наибольший (где-то в районе 13) ошибка на \n",
    "# на трейновой части минимальная - то есть очень сильное переобучение.\n",
    "\n",
    "# Основываясь, во-первых, на том, что по roc-auc виден пик при max_depth=4, и во-вторых на том, что переобучение по \n",
    "# accuracy не такое сильное при max_depth=4, а качество будет повыше, чем в окрестности, то я бы выбрал глубину = 4"
   ]
  },
  {
   "cell_type": "markdown",
   "metadata": {},
   "source": [
    "#### Задание (1 балл)\n",
    "\n",
    "Отсортируйте признаки по важности. Вектор с важностью признаков можно получить с помощью `model.feature_importances_`"
   ]
  },
  {
   "cell_type": "code",
   "execution_count": null,
   "metadata": {
    "collapsed": true
   },
   "outputs": [],
   "source": [
    "# Your Code Here"
   ]
  },
  {
   "cell_type": "markdown",
   "metadata": {},
   "source": [
    "#### Задание (2 балла)\n",
    "* Получите предсказания на тестовой выборке\n",
    "* Постройте ROC кривые для обучающей и тестовой выборок\n",
    "* Посчитайте остальные меры качества классификации при пороге в `0.5`"
   ]
  },
  {
   "cell_type": "code",
   "execution_count": null,
   "metadata": {
    "collapsed": true
   },
   "outputs": [],
   "source": [
    "# Your Code Here"
   ]
  },
  {
   "cell_type": "markdown",
   "metadata": {},
   "source": [
    "#### Задание (1 балл)\n",
    "Перейдем к модели случайного леса. Зафиксируем некоторую глубину дерева (можно звять оптимальное с предыдущих заданий).\n",
    "\n",
    "Сравните качество работы \n",
    "* Простого дерева решений\n",
    "* Бэггинга над 10,20,...,100 деревьями решений\n",
    "* Случайного леса с 10,20,...,100 деревьями решений\n",
    "\n",
    "Получите график, у которого по оси X откладывается количество деревьев, а по оси Y - качество классификации."
   ]
  },
  {
   "cell_type": "code",
   "execution_count": 243,
   "metadata": {
    "collapsed": true
   },
   "outputs": [],
   "source": [
    "from sklearn.ensemble import BaggingClassifier\n",
    "from sklearn.ensemble import RandomForestClassifier"
   ]
  },
  {
   "cell_type": "code",
   "execution_count": 241,
   "metadata": {
    "collapsed": true
   },
   "outputs": [],
   "source": [
    "# Your Code Here"
   ]
  },
  {
   "cell_type": "markdown",
   "metadata": {},
   "source": [
    "####  Задание (3 балла)\n",
    "* С помощью `GridSearchCV` или `RandomSearchCV` подберите наиболее оптимальные параметры для случайного леса.\n",
    "* Для этих параметров сравните средние результаты по кросс-валидации и качество на контрольной выборке"
   ]
  },
  {
   "cell_type": "code",
   "execution_count": null,
   "metadata": {
    "collapsed": true
   },
   "outputs": [],
   "source": [
    "# Your Code Here"
   ]
  }
 ],
 "metadata": {
  "anaconda-cloud": {},
  "kernelspec": {
   "display_name": "Python [default]",
   "language": "python",
   "name": "python2"
  },
  "nav_menu": {},
  "toc": {
   "navigate_menu": true,
   "number_sections": false,
   "sideBar": false,
   "threshold": 6,
   "toc_cell": false,
   "toc_section_display": "block",
   "toc_window_display": true
  },
  "toc_position": {
   "height": "80px",
   "left": "28px",
   "right": "862.667px",
   "top": "138px",
   "width": "176px"
  }
 },
 "nbformat": 4,
 "nbformat_minor": 0
}
